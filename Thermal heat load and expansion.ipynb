{
 "cells": [
  {
   "cell_type": "code",
   "execution_count": 1,
   "metadata": {
    "collapsed": false
   },
   "outputs": [],
   "source": [
    "%matplotlib inline\n",
    "import numpy as np\n",
    "import argparse\n",
    "import matplotlib.pyplot as plt\n",
    "from os import mkdir\n",
    "from time import sleep\n",
    "import time\n",
    "import datetime\n",
    "import scipy.signal as sig\n",
    "import scipy.integrate as integrate"
   ]
  },
  {
   "cell_type": "markdown",
   "metadata": {},
   "source": [
    "# SS 304 Heat Load"
   ]
  },
  {
   "cell_type": "code",
   "execution_count": 2,
   "metadata": {
    "collapsed": false
   },
   "outputs": [],
   "source": [
    "# coefficients for SUS304 from http://cryogenics.nist.gov/Papers/Cryo_Materials.pdf\n",
    "a=-1.4087\n",
    "b=1.3982\n",
    "c=0.2543\n",
    "d=-.626\n",
    "e=.2334\n",
    "f=.4256\n",
    "g=-.4658\n",
    "h=.1650\n",
    "i=-0.0199"
   ]
  },
  {
   "cell_type": "code",
   "execution_count": 3,
   "metadata": {
    "collapsed": false
   },
   "outputs": [],
   "source": [
    "# define the thermal conductivity\n",
    "def logk(T,a,b,c,d,e,f,g,h,i):\n",
    "    logT=np.log10(T)\n",
    "    return a+b*logT+c*logT**2+d*logT**3+e*logT**4+f*logT**5 + g*logT**6 + h*logT**7 + i*logT**8\n",
    "def kappa(T,a,b,c,d,e,f,g,h,i):\n",
    "    return 10**logk(T,a,b,c,d,e,f,g,h,i)\n"
   ]
  },
  {
   "cell_type": "code",
   "execution_count": 4,
   "metadata": {
    "collapsed": false
   },
   "outputs": [
    {
     "data": {
      "text/plain": [
       "(4, 300)"
      ]
     },
     "execution_count": 4,
     "metadata": {},
     "output_type": "execute_result"
    },
    {
     "data": {
      "image/png": "[encoded data removed]",
      "text/plain": [
       "<matplotlib.figure.Figure at 0x202255cf1d0>"
      ]
     },
     "metadata": {},
     "output_type": "display_data"
    }
   ],
   "source": [
    "# Confirm that the resulting thermal conductivity looks like the Figure 1 in the paper\n",
    "x=np.linspace(4,300,100)\n",
    "y=logk(x,a,b,c,d,e,f,g,h,i)\n",
    "plt.loglog(x,10**y)\n",
    "plt.xlim(4,300)"
   ]
  },
  {
   "cell_type": "code",
   "execution_count": 25,
   "metadata": {
    "collapsed": false
   },
   "outputs": [],
   "source": [
    "# define the power equation.  Returns in W\n",
    "def power(area,length,T1,T2):\n",
    "    geo=area/length\n",
    "    I=integrate.quad(kappa,T1,T2,args=(a,b,c,d,e,f,g,h,i))\n",
    "    return I[0]*geo"
   ]
  },
  {
   "cell_type": "code",
   "execution_count": 27,
   "metadata": {
    "collapsed": false
   },
   "outputs": [
    {
     "data": {
      "text/plain": [
       "73.60674845073974"
      ]
     },
     "execution_count": 27,
     "metadata": {},
     "output_type": "execute_result"
    }
   ],
   "source": [
    "# do the test case of 10 cm long cable from 4-20K.  pretty close to quoted 65 uW/K\n",
    "Area=6.3e-6\n",
    "Len=.1\n",
    "power(Area,Len,4,20)/(20-4)*1e6"
   ]
  },
  {
   "cell_type": "code",
   "execution_count": 28,
   "metadata": {
    "collapsed": false
   },
   "outputs": [
    {
     "data": {
      "text/plain": [
       "343.90320437657505"
      ]
     },
     "execution_count": 28,
     "metadata": {},
     "output_type": "execute_result"
    }
   ],
   "source": [
    "# and the test case for 4-100 K.  This one is a bit off from the quoted 196\n",
    "T1=4\n",
    "T2=100\n",
    "power(Area,Len,4,100)/(T2-T1)*1e6\n"
   ]
  },
  {
   "cell_type": "code",
   "execution_count": 31,
   "metadata": {
    "collapsed": false
   },
   "outputs": [
    {
     "data": {
      "text/plain": [
       "0.18213239951412274"
      ]
     },
     "execution_count": 31,
     "metadata": {},
     "output_type": "execute_result"
    }
   ],
   "source": [
    "# for our 50K - 300K cables:\n",
    "power(Area,Len,50,300)"
   ]
  },
  {
   "cell_type": "code",
   "execution_count": 32,
   "metadata": {
    "collapsed": false
   },
   "outputs": [
    {
     "data": {
      "text/plain": [
       "0.008810746220069252"
      ]
     },
     "execution_count": 32,
     "metadata": {},
     "output_type": "execute_result"
    }
   ],
   "source": [
    "# and for the 4K - 50K calbes:\n",
    "power(Area,Len,4,50)"
   ]
  },
  {
   "cell_type": "code",
   "execution_count": 61,
   "metadata": {
    "collapsed": false
   },
   "outputs": [
    {
     "data": {
      "text/plain": [
       "0.0034687977244367138"
      ]
     },
     "execution_count": 61,
     "metadata": {},
     "output_type": "execute_result"
    }
   ],
   "source": [
    "# and for the 4K- 50 cables in the ADR:\n",
    "power(Area,.254,4,50)"
   ]
  },
  {
   "cell_type": "markdown",
   "metadata": {},
   "source": [
    "# CuNi Heat load"
   ]
  },
  {
   "cell_type": "code",
   "execution_count": 52,
   "metadata": {
    "collapsed": false
   },
   "outputs": [],
   "source": [
    "# define the thermal conductivity and the heat load\n",
    "def kcuni(T):\n",
    "    return 300e-4*(T**(1.1))\n",
    "def pcuni(Area, Len, T1, T2):\n",
    "    geo= Area/Len\n",
    "    I = integrate.quad(kcuni,T1,T2)\n",
    "    return I[0]*geo"
   ]
  },
  {
   "cell_type": "code",
   "execution_count": 55,
   "metadata": {
    "collapsed": false
   },
   "outputs": [
    {
     "data": {
      "text/plain": [
       "9.395425010125965e-07"
      ]
     },
     "execution_count": 55,
     "metadata": {},
     "output_type": "execute_result"
    }
   ],
   "source": [
    "# for 350 mK to 4K\n",
    "Acuni = 1.08e-6\n",
    "Lcuni = .3\n",
    "pcuni(Acuni,Lcuni,.35,4)"
   ]
  },
  {
   "cell_type": "code",
   "execution_count": 56,
   "metadata": {
    "collapsed": false
   },
   "outputs": [
    {
     "data": {
      "text/plain": [
       "5.747894291600864e-09"
      ]
     },
     "execution_count": 56,
     "metadata": {},
     "output_type": "execute_result"
    }
   ],
   "source": [
    "# for 250 mK to 4K\n",
    "pcuni(Acuni,.15,.25,.35)"
   ]
  },
  {
   "cell_type": "code",
   "execution_count": 60,
   "metadata": {
    "collapsed": false
   },
   "outputs": [
    {
     "data": {
      "text/plain": [
       "9.411111023863854e-07"
      ]
     },
     "execution_count": 60,
     "metadata": {},
     "output_type": "execute_result"
    }
   ],
   "source": [
    "# for 1K to 4K\n",
    "pcuni(Acuni,.3,.3,4)"
   ]
  },
  {
   "cell_type": "code",
   "execution_count": 59,
   "metadata": {
    "collapsed": false
   },
   "outputs": [
    {
     "data": {
      "text/plain": [
       "7.390064695230141e-09"
      ]
     },
     "execution_count": 59,
     "metadata": {},
     "output_type": "execute_result"
    }
   ],
   "source": [
    "# for 100 mK to 1K\n",
    "pcuni(Acuni,.15,.1,.3)"
   ]
  },
  {
   "cell_type": "markdown",
   "metadata": {},
   "source": [
    "# Thermal expansion of the SS compared to G10"
   ]
  },
  {
   "cell_type": "code",
   "execution_count": null,
   "metadata": {
    "collapsed": false
   },
   "outputs": [],
   "source": [
    "a=-2.95545e2\n",
    "b=-3.9811e-1\n",
    "c=9.2683e-3\n",
    "d=-2.0261e-5\n",
    "e=1.7127e-8\n",
    "def Lrat(T,a,b,c,d,e):\n",
    "    return (a+b*T+c*T**2+d*T**3+e*T**4)*1e-5\n"
   ]
  }
 ],
 "metadata": {
  "anaconda-cloud": {},
  "kernelspec": {
   "display_name": "Python [default]",
   "language": "python",
   "name": "python3"
  },
  "language_info": {
   "codemirror_mode": {
    "name": "ipython",
    "version": 3
   },
   "file_extension": ".py",
   "mimetype": "text/x-python",
   "name": "python",
   "nbconvert_exporter": "python",
   "pygments_lexer": "ipython3",
   "version": "3.5.2"
  }
 },
 "nbformat": 4,
 "nbformat_minor": 0
}
