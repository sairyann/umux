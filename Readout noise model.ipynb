{
 "cells": [
  {
   "cell_type": "markdown",
   "metadata": {},
   "source": [
    "# This notebook derives the noise model for the umux readout\n"
   ]
  },
  {
   "cell_type": "code",
   "execution_count": 40,
   "metadata": {
    "collapsed": true
   },
   "outputs": [],
   "source": [
    "# setup the python\n",
    "%matplotlib inline\n",
    "import numpy as np\n",
    "import argparse\n",
    "import matplotlib.pyplot as plt\n",
    "import pandas as pd"
   ]
  },
  {
   "cell_type": "markdown",
   "metadata": {},
   "source": [
    "# Start with the chip design parameters"
   ]
  },
  {
   "cell_type": "code",
   "execution_count": 24,
   "metadata": {
    "collapsed": false
   },
   "outputs": [
    {
     "name": "stdout",
     "output_type": "stream",
     "text": [
      "The input coupling is 9.039 pA/uphi_0\n",
      "The TES current to RF freq shift is 0.055 Hz/pA\n"
     ]
    },
    {
     "data": {
      "text/plain": [
       "<matplotlib.text.Text at 0x190f5138a20>"
      ]
     },
     "execution_count": 24,
     "metadata": {},
     "output_type": "execute_result"
    },
    {
     "data": {
      "image/png": "[encoded data removed]",
      "text/plain": [
       "<matplotlib.figure.Figure at 0x190f5050a58>"
      ]
     },
     "metadata": {},
     "output_type": "display_data"
    }
   ],
   "source": [
    "f_res = 5e9 # resonance frequency = 5GHz\n",
    "res_bw = 100e3 # current gen bandwidth = 100kHz, need >75kHz\n",
    "M_input = 229e-12 # input mutual inductance to squid= 229 pH\n",
    "M_flxramp = 26.9e-12 # flux ramp to squid\n",
    "M_sqres = 1.65e-12/2 # squid to resonator\n",
    "L_sq = 22.5e-12 # squid self inductance\n",
    "Q_c = f_res/res_bw # coupled Q\n",
    "Q_i = 100e3 # internal Q\n",
    "lmbda = 0.8 # lambda = L_sq/L_J designed for 0.3, but measured at 0.8\n",
    "# define the degradetion factor\n",
    "if lmbda == 0.8:\n",
    "    alpha = 1.64\n",
    "else:\n",
    "    alpha = 0.8\n",
    "flux_quantum = 2.07e-15 # in Wb\n",
    "Z_1 = 50 # impedence of the microstrip\n",
    "\n",
    "# now define some of the necessary conversion \n",
    "didphi = flux_quantum/M_input*1e6 # pA/uphi_0 the 1e6 is to convert from A/phi_0\n",
    "dfdi = 1e-12*4*f_res**2*M_sqres**2*lmbda*alpha*2*np.pi*M_input/(Z_1*L_sq*flux_quantum)\n",
    "\n",
    "print('The input coupling is ' + str.format('{0:.3f}',didphi)+ ' pA/uphi_0')\n",
    "print('The TES current to RF freq shift is '+str.format('{0:.3f}',dfdi) + ' Hz/pA')\n",
    "\n",
    "# now lets also plot the resulting flux sweep\n",
    "flux = np.linspace(0,3,1000)\n",
    "df = 4*f_res**2*M_sqres**2*lmbda*np.cos(flux*2*np.pi)/(Z_1*L_sq*(1+lmbda*np.cos(flux*2*np.pi)))\n",
    "plt.plot(flux,df*1e-3)\n",
    "plt.xlabel('Flux')\n",
    "plt.ylabel('Frequency shift [kHz]')"
   ]
  },
  {
   "cell_type": "markdown",
   "metadata": {},
   "source": [
    "# Start modeling the noise of the electronics\n",
    "## Begin with the RF noise\n",
    "### Phase noise\n",
    "The phase noise is dependent on the local oscillator and the clock.  "
   ]
  },
  {
   "cell_type": "code",
   "execution_count": 39,
   "metadata": {
    "collapsed": false
   },
   "outputs": [
    {
     "ename": "NameError",
     "evalue": "name 'noise' is not defined",
     "output_type": "error",
     "traceback": [
      "\u001b[0;31m--------------------------------------------------------------------\u001b[0m",
      "\u001b[0;31mNameError\u001b[0m                          Traceback (most recent call last)",
      "\u001b[0;32m<ipython-input-39-69569c628d5f>\u001b[0m in \u001b[0;36m<module>\u001b[0;34m()\u001b[0m\n\u001b[1;32m      1\u001b[0m \u001b[0mS_phi\u001b[0m \u001b[1;33m=\u001b[0m \u001b[1;33m-\u001b[0m\u001b[1;36m90\u001b[0m \u001b[1;31m# noise from the LO in dBc/Hz\u001b[0m\u001b[1;33m\u001b[0m\u001b[0m\n\u001b[0;32m----> 2\u001b[0;31m \u001b[0mnoise\u001b[0m\u001b[1;33m[\u001b[0m\u001b[1;34m'phase'\u001b[0m\u001b[1;33m]\u001b[0m \u001b[1;33m=\u001b[0m \u001b[1;36m10\u001b[0m\u001b[1;33m**\u001b[0m\u001b[1;33m(\u001b[0m\u001b[0mS_phi\u001b[0m\u001b[1;33m/\u001b[0m\u001b[1;36m20\u001b[0m\u001b[1;33m)\u001b[0m\u001b[1;33m*\u001b[0m\u001b[0mres_bw\u001b[0m\u001b[1;33m/\u001b[0m\u001b[1;36m2\u001b[0m\u001b[1;33m/\u001b[0m\u001b[0mdfdi\u001b[0m\u001b[1;33m\u001b[0m\u001b[0m\n\u001b[0m\u001b[1;32m      3\u001b[0m print('The phase noise referred to input is '+\n\u001b[1;32m      4\u001b[0m       str.format('{0:.3f}',N_phi)+' pA/rt(Hz)')\n",
      "\u001b[0;31mNameError\u001b[0m: name 'noise' is not defined"
     ]
    }
   ],
   "source": [
    "S_phi = -90 # noise from the LO in dBc/Hz\n",
    "N_phi = 10**(S_phi/20)*res_bw/2/dfdi\n",
    "print('The phase noise referred to input is '+\n",
    "      str.format('{0:.3f}',N_phi)+' pA/rt(Hz)')"
   ]
  },
  {
   "cell_type": "markdown",
   "metadata": {},
   "source": [
    "# DC Noise\n",
    "Flux ramp and TES bias"
   ]
  },
  {
   "cell_type": "code",
   "execution_count": 37,
   "metadata": {
    "collapsed": false
   },
   "outputs": [
    {
     "name": "stdout",
     "output_type": "stream",
     "text": [
      "The TES bias line noise referred to input is 2.381 pA/rt(Hz)\n",
      "The flux ramp bias line noise referred to input is 5.873 pA/rt(Hz)\n"
     ]
    }
   ],
   "source": [
    "# define the TES parameters\n",
    "R_sh = 0.003 # 3 mOhms\n",
    "R_tes = 0.06 # 60 mOhms\n",
    "\n",
    "# Set the TES bias line current noise at 50 pA/rt(Hz)\n",
    "I_tes_bias = 50 # pA/rt(Hz)\n",
    "I_b = R_sh/(R_sh+R_tes)*I_tes_bias\n",
    "print('The TES bias line noise referred to input is '+\n",
    "     str.format('{0:.3f}',I_b) +' pA/rt(Hz)') \n",
    "\n",
    "# Set the flux ramp line current noise to 50 pA/rt(Hz)\n",
    "I_flux_ramp = 50 #pA/rt(Hz)\n",
    "I_f = M_flxramp/M_input*I_flux_ramp\n",
    "print('The flux ramp bias line noise referred to input is '+\n",
    "     str.format('{0:.3f}',I_f) +' pA/rt(Hz)') "
   ]
  },
  {
   "cell_type": "markdown",
   "metadata": {},
   "source": [
    "## Total noise budget"
   ]
  },
  {
   "cell_type": "code",
   "execution_count": 66,
   "metadata": {
    "collapsed": false
   },
   "outputs": [
    {
     "data": {
      "text/html": [
       "<div>\n",
       "<table border=\"1\" class=\"dataframe\">\n",
       "  <thead>\n",
       "    <tr style=\"text-align: right;\">\n",
       "      <th></th>\n",
       "      <th>source</th>\n",
       "      <th>intrinsic value</th>\n",
       "      <th>refered to input</th>\n",
       "    </tr>\n",
       "  </thead>\n",
       "  <tbody>\n",
       "    <tr>\n",
       "      <th>0</th>\n",
       "      <td>Phase noise</td>\n",
       "      <td>-90.0</td>\n",
       "      <td>28.657334</td>\n",
       "    </tr>\n",
       "    <tr>\n",
       "      <th>1</th>\n",
       "      <td>TES bias</td>\n",
       "      <td>50.0</td>\n",
       "      <td>2.380952</td>\n",
       "    </tr>\n",
       "    <tr>\n",
       "      <th>2</th>\n",
       "      <td>flux ramp</td>\n",
       "      <td>50.0</td>\n",
       "      <td>5.873362</td>\n",
       "    </tr>\n",
       "    <tr>\n",
       "      <th>3</th>\n",
       "      <td>total noise</td>\n",
       "      <td>NaN</td>\n",
       "      <td>29.349755</td>\n",
       "    </tr>\n",
       "  </tbody>\n",
       "</table>\n",
       "</div>"
      ],
      "text/plain": [
       "        source  intrinsic value  refered to input\n",
       "0  Phase noise            -90.0         28.657334\n",
       "1     TES bias             50.0          2.380952\n",
       "2    flux ramp             50.0          5.873362\n",
       "3  total noise              NaN         29.349755"
      ]
     },
     "execution_count": 66,
     "metadata": {},
     "output_type": "execute_result"
    }
   ],
   "source": [
    "noise = {'source': ['Phase noise','TES bias','flux ramp'],\n",
    "         'intrinsic value':[S_phi,I_tes_bias,I_flux_ramp],\n",
    "         'refered to input':[N_phi,I_b,I_f]}\n",
    "noise_frame = pd.DataFrame(noise,columns=['source','intrinsic value','refered to input'] )\n",
    "rti=noise_frame['refered to input']**2\n",
    "t = pd.Series({'source':'total noise',\n",
    "     'refered to input':np.sqrt(rti.sum())})\n",
    "noise_frame.append(t,ignore_index=True)"
   ]
  },
  {
   "cell_type": "code",
   "execution_count": null,
   "metadata": {
    "collapsed": false
   },
   "outputs": [],
   "source": []
  },
  {
   "cell_type": "code",
   "execution_count": null,
   "metadata": {
    "collapsed": false,
    "scrolled": true
   },
   "outputs": [],
   "source": []
  },
  {
   "cell_type": "code",
   "execution_count": null,
   "metadata": {
    "collapsed": true
   },
   "outputs": [],
   "source": []
  }
 ],
 "metadata": {
  "anaconda-cloud": {},
  "kernelspec": {
   "display_name": "Python [conda root]",
   "language": "python",
   "name": "conda-root-py"
  },
  "language_info": {
   "codemirror_mode": {
    "name": "ipython",
    "version": 3
   },
   "file_extension": ".py",
   "mimetype": "text/x-python",
   "name": "python",
   "nbconvert_exporter": "python",
   "pygments_lexer": "ipython3",
   "version": "3.5.2"
  }
 },
 "nbformat": 4,
 "nbformat_minor": 1
}
